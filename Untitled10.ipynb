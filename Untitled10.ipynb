{
  "nbformat": 4,
  "nbformat_minor": 0,
  "metadata": {
    "colab": {
      "provenance": [],
      "authorship_tag": "ABX9TyMTclRH3nEZgrBNFsV9FtF0",
      "include_colab_link": true
    },
    "kernelspec": {
      "name": "python3",
      "display_name": "Python 3"
    },
    "language_info": {
      "name": "python"
    }
  },
  "cells": [
    {
      "cell_type": "markdown",
      "metadata": {
        "id": "view-in-github",
        "colab_type": "text"
      },
      "source": [
        "<a href=\"https://colab.research.google.com/github/SpitsynMatvey/Engineering/blob/main/Untitled10.ipynb\" target=\"_parent\"><img src=\"https://colab.research.google.com/assets/colab-badge.svg\" alt=\"Open In Colab\"/></a>"
      ]
    },
    {
      "cell_type": "code",
      "source": [
        "import numpy as np\n",
        "\n",
        "import matplotlib.pyplot as plt\n",
        "\n",
        "import matplotlib.animation as animation\n",
        "\n",
        "\n",
        "\n",
        "# Зададим параметры\n",
        "\n",
        "radius = 700  # радиус круга\n",
        "\n",
        "hare_speed = 2  # скорость зайца\n",
        "\n",
        "dog_speed = 4  # скорость собаки\n",
        "\n",
        "delta_t = 0.1  # длительность скачка\n",
        "\n",
        "n = 2000  # число скачков\n",
        "\n",
        "\n",
        "\n",
        "# Вычислим траекторию зайца\n",
        "\n",
        "delta_alpha = hare_speed * delta_t / radius\n",
        "\n",
        "alphas = np.arange(n) * delta_alpha\n",
        "\n",
        "x_hare = radius * np.sin(alphas)\n",
        "\n",
        "y_hare = radius * np.cos(alphas)\n",
        "\n",
        "\n",
        "\n",
        "# Вычислим траекторию собаки\n",
        "\n",
        "phi = np.arctan2(y_hare[0], x_hare[0])\n",
        "\n",
        "x0_dog = 0  # начальные координаты собаки\n",
        "\n",
        "y0_dog = 0\n",
        "\n",
        "x_dog = np.zeros_like(x_hare)\n",
        "\n",
        "y_dog = np.zeros_like(y_hare)\n",
        "\n",
        "x_dog[0] = x0_dog\n",
        "\n",
        "y_dog[0] = y0_dog\n",
        "\n",
        "for i in range(1, n):\n",
        "\n",
        "    delta_x = dog_speed * delta_t * np.cos(phi)\n",
        "\n",
        "    delta_y = dog_speed * delta_t * np.sin(phi)\n",
        "\n",
        "    x_dog[i] = x_dog[i-1] + delta_x\n",
        "\n",
        "    y_dog[i] = y_dog[i-1] + delta_y\n",
        "\n",
        "    phi = np.arctan2(y_hare[i]-y_dog[i], x_hare[i]-x_dog[i])\n",
        "\n",
        "\n",
        "\n",
        "# Построим анимацию\n",
        "\n",
        "fig, ax = plt.subplots()\n",
        "\n",
        "plt.plot(x_hare, y_hare, color='gray', lw=2, alpha=0.7)  # траектория зайца\n",
        "\n",
        "plt.plot(x_dog[0], y_dog[0], 'o', color='red', markersize=15)  # начальная точка собаки\n",
        "\n",
        "plt.plot(x_dog, y_dog, color='red', lw=2, alpha=0.7)  # траектория собаки\n",
        "\n",
        "plt.plot(x_hare[0], y_hare[0], 'o', color='gray', markersize=15)  # начальная точка зайца\n",
        "\n",
        "\n",
        "\n",
        "def animate(i):\n",
        "\n",
        "    ax.collections.clear()\n",
        "\n",
        "    ax.plot(x_hare, y_hare, color='gray', lw=2, alpha=0.7)\n",
        "\n",
        "    ax.plot(x_dog[i], y_dog[i], 'o', color='red', markersize=15)\n",
        "\n",
        "    ax.plot(x_dog[:i+1], y_dog[:i+1], color='red', lw=2, alpha=0.7)\n",
        "\n",
        "    ax.plot(x_hare[i], y_hare[i], 'o', color='gray', markersize=15)\n",
        "\n",
        "    ax.plot([x_dog[i], x_hare[i]], [y_dog[i], y_hare[i]], 'k--')\n",
        "\n",
        "    ax.annotate('Distance: {:.2f}'.format(np.sqrt((x_dog[i]-x_hare[i])**2 + (y_dog[i]-y_hare[i])**2)),\n",
        "\n",
        "                xy=(0.2, 0.9), xycoords='axes fraction', fontsize=12)\n",
        "\n",
        "\n",
        "\n",
        "ani = animation.FuncAnimation(fig, animate, frames=n, interval=10)\n",
        "\n",
        "plt.show()"
      ],
      "metadata": {
        "id": "pdxPWcJai_tI",
        "outputId": "33b58980-e324-43ab-c72a-df236016933d",
        "colab": {
          "base_uri": "https://localhost:8080/",
          "height": 430
        }
      },
      "execution_count": null,
      "outputs": [
        {
          "output_type": "display_data",
          "data": {
            "text/plain": [
              "<Figure size 640x480 with 1 Axes>"
            ],
            "image/png": "[encoded data removed]"
          },
          "metadata": {}
        }
      ]
    }
  ]
}